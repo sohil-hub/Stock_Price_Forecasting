{
  "nbformat": 4,
  "nbformat_minor": 0,
  "metadata": {
    "colab": {
      "name": "Apple_Stock_Price_Prediction_LSTM",
      "provenance": [],
      "collapsed_sections": []
    },
    "kernelspec": {
      "name": "python3",
      "display_name": "Python 3"
    },
    "accelerator": "GPU"
  },
  "cells": [
    {
      "cell_type": "markdown",
      "metadata": {
        "id": "xpAuMVCwfWs8"
      },
      "source": [
        "# Recurrent Neural Network"
      ]
    },
    {
      "cell_type": "markdown",
      "metadata": {
        "id": "nxJfRe4bfYVA"
      },
      "source": [
        "## Part 1 - Data Preprocessing"
      ]
    },
    {
      "cell_type": "markdown",
      "metadata": {
        "id": "ir9zwETrfbrp"
      },
      "source": [
        "### Importing the libraries"
      ]
    },
    {
      "cell_type": "code",
      "metadata": {
        "id": "mfiVLp6YFg_q"
      },
      "source": [
        "import tensorflow as tf\n",
        "import pandas as pd\n",
        "import numpy as np\n",
        "import matplotlib.pyplot as plt"
      ],
      "execution_count": 52,
      "outputs": []
    },
    {
      "cell_type": "markdown",
      "metadata": {
        "id": "nQ47JAxrgmaL"
      },
      "source": [
        "### Importing the training set"
      ]
    },
    {
      "cell_type": "code",
      "metadata": {
        "id": "bC15kvaCFn0-"
      },
      "source": [
        "dataset = pd.read_csv('/content/AAPL.csv')\n",
        "dataset_train = dataset.head(900)\n",
        "dataset_test = dataset.tail(len(dataset)-900)"
      ],
      "execution_count": 53,
      "outputs": []
    },
    {
      "cell_type": "code",
      "metadata": {
        "colab": {
          "base_uri": "https://localhost:8080/"
        },
        "id": "rJpZCHDWTx8t",
        "outputId": "70580f69-aeb8-4538-dc8e-62dcfd1f6355"
      },
      "source": [
        "dataset_test.iloc[4, 7]"
      ],
      "execution_count": 54,
      "outputs": [
        {
          "output_type": "execute_result",
          "data": {
            "text/plain": [
              "53117065"
            ]
          },
          "metadata": {},
          "execution_count": 54
        }
      ]
    },
    {
      "cell_type": "code",
      "metadata": {
        "id": "GPWSJspuciHt",
        "colab": {
          "base_uri": "https://localhost:8080/"
        },
        "outputId": "f4e94abb-7a0f-4d58-eb1d-2183cda17b78"
      },
      "source": [
        "dataset.shape, dataset_train.shape, dataset_test.shape"
      ],
      "execution_count": 55,
      "outputs": [
        {
          "output_type": "execute_result",
          "data": {
            "text/plain": [
              "((1258, 15), (900, 15), (358, 15))"
            ]
          },
          "metadata": {},
          "execution_count": 55
        }
      ]
    },
    {
      "cell_type": "code",
      "metadata": {
        "id": "O6io6issS8vS"
      },
      "source": [
        "dataset_train.reset_index(inplace=True)\n",
        "dataset_test.reset_index(inplace=True)"
      ],
      "execution_count": 56,
      "outputs": []
    },
    {
      "cell_type": "code",
      "metadata": {
        "id": "EZcDBhChSt2T"
      },
      "source": [
        "dataset_train.to_csv('train.csv')\n",
        "dataset_test.to_csv('test.csv')"
      ],
      "execution_count": 29,
      "outputs": []
    },
    {
      "cell_type": "code",
      "metadata": {
        "colab": {
          "base_uri": "https://localhost:8080/"
        },
        "id": "L4IMiXSqTPJE",
        "outputId": "698290fd-916d-4337-b45d-d517ceb2afbe"
      },
      "source": [
        "training_set = df_train.iloc[:, 7:8].values\n",
        "training_set.shape"
      ],
      "execution_count": 33,
      "outputs": [
        {
          "output_type": "execute_result",
          "data": {
            "text/plain": [
              "(900, 1)"
            ]
          },
          "metadata": {},
          "execution_count": 33
        }
      ]
    },
    {
      "cell_type": "markdown",
      "metadata": {
        "id": "HT8_2UJegtG5"
      },
      "source": [
        "### Feature Scaling"
      ]
    },
    {
      "cell_type": "code",
      "metadata": {
        "id": "XDpsd9ZVGCV3"
      },
      "source": [
        "#For RNN MinMaxScaler(Normalization) is recommended.\n",
        "\n",
        "from sklearn.preprocessing import MinMaxScaler\n",
        "sc = MinMaxScaler(feature_range=(0, 1))\n",
        "training_set_scaled = sc.fit_transform(training_set)"
      ],
      "execution_count": 34,
      "outputs": []
    },
    {
      "cell_type": "code",
      "metadata": {
        "colab": {
          "base_uri": "https://localhost:8080/"
        },
        "id": "9mIZKb9wHpbo",
        "outputId": "fec6f304-15a2-4318-bab9-5906c137c1b4"
      },
      "source": [
        "training_set_scaled.shape"
      ],
      "execution_count": 35,
      "outputs": [
        {
          "output_type": "execute_result",
          "data": {
            "text/plain": [
              "(900, 1)"
            ]
          },
          "metadata": {},
          "execution_count": 35
        }
      ]
    },
    {
      "cell_type": "markdown",
      "metadata": {
        "id": "JyYgYocqhNUg"
      },
      "source": [
        "### Creating a data structure with 60 timesteps and 1 output"
      ]
    },
    {
      "cell_type": "code",
      "metadata": {
        "id": "b-X7TabRGgPb"
      },
      "source": [
        "#RNN will predict the new value according to the value of previous 60 days.\n",
        "\n",
        "X_train = []\n",
        "y_train = []\n",
        "for i in range(60, len(training_set_scaled)):\n",
        "    X_train.append(training_set_scaled[i-60:i, 0])\n",
        "    y_train.append(training_set_scaled[i, 0])\n",
        "X_train, y_train = np.array(X_train), np.array(y_train)"
      ],
      "execution_count": 36,
      "outputs": []
    },
    {
      "cell_type": "code",
      "metadata": {
        "colab": {
          "base_uri": "https://localhost:8080/"
        },
        "id": "Yaw_A0dENfWM",
        "outputId": "f13120d0-3f28-4388-d1d7-6d950e26354a"
      },
      "source": [
        "print(X_train[0], y_train[0])"
      ],
      "execution_count": 37,
      "outputs": [
        {
          "output_type": "stream",
          "name": "stdout",
          "text": [
            "[0.28654638 0.29734337 0.29286831 0.29265521 0.28313681 0.28881943\n",
            " 0.28114789 0.28057963 0.27631766 0.26069044 0.26935644 0.27830658\n",
            " 0.27123881 0.25642847 0.26303452 0.26793579 0.26445518 0.26786475\n",
            " 0.26630203 0.266231   0.26431311 0.27603353 0.26758062 0.25188237\n",
            " 0.25266373 0.2621111  0.25877255 0.24818866 0.25493678 0.24492115\n",
            " 0.24044609 0.22687882 0.24882796 0.25600227 0.25372922 0.26807785\n",
            " 0.27759625 0.29102145 0.30437562 0.22723398 0.2571388  0.25088791\n",
            " 0.23504759 0.23710754 0.23547379 0.22957807 0.23156698 0.22375337\n",
            " 0.19477198 0.16302032 0.18447223 0.17459866 0.18845006 0.19754226\n",
            " 0.16003694 0.18496946 0.17275181 0.18496946 0.18773974 0.18539565] 0.17104702372496083\n"
          ]
        }
      ]
    },
    {
      "cell_type": "code",
      "metadata": {
        "colab": {
          "base_uri": "https://localhost:8080/"
        },
        "id": "jn6b6ikPN3UA",
        "outputId": "4fb50b18-a313-425e-ee08-74721f48029d"
      },
      "source": [
        "X_train.shape, y_train.shape"
      ],
      "execution_count": 39,
      "outputs": [
        {
          "output_type": "execute_result",
          "data": {
            "text/plain": [
              "((840, 60), (840,))"
            ]
          },
          "metadata": {},
          "execution_count": 39
        }
      ]
    },
    {
      "cell_type": "markdown",
      "metadata": {
        "id": "D8yaN7Zvi95l"
      },
      "source": [
        "### Reshaping"
      ]
    },
    {
      "cell_type": "code",
      "metadata": {
        "id": "JEWxttarIfxg"
      },
      "source": [
        "#Our new shape should match the input shape of LSTM layer.\n",
        "#According to keras docs the input_shape should be (batch_size(no of observation), no of timestampts, no of features(in our case open is only feature))\n",
        "X_train = np.reshape(X_train, (X_train.shape[0], X_train.shape[1], 1))"
      ],
      "execution_count": 40,
      "outputs": []
    },
    {
      "cell_type": "markdown",
      "metadata": {
        "id": "ZRRSOJeVjEWV"
      },
      "source": [
        "## Part 2 - Building and Training the RNN"
      ]
    },
    {
      "cell_type": "markdown",
      "metadata": {
        "id": "k4XV88JMjHXG"
      },
      "source": [
        "### Importing the Keras libraries and packages"
      ]
    },
    {
      "cell_type": "code",
      "metadata": {
        "id": "QhZX6KH2LTmG"
      },
      "source": [
        "from tensorflow.keras.models import Sequential\n",
        "from tensorflow.keras.layers import Dense\n",
        "from tensorflow.keras.layers import LSTM\n",
        "from tensorflow.keras.layers import Dropout"
      ],
      "execution_count": 41,
      "outputs": []
    },
    {
      "cell_type": "markdown",
      "metadata": {
        "id": "FEIE-1s9jNzC"
      },
      "source": [
        "### Initialising the RNN"
      ]
    },
    {
      "cell_type": "code",
      "metadata": {
        "id": "i0w7k-09LX4_"
      },
      "source": [
        "regressor = Sequential()"
      ],
      "execution_count": 42,
      "outputs": []
    },
    {
      "cell_type": "markdown",
      "metadata": {
        "id": "62eg1OPGjT8z"
      },
      "source": [
        "### Adding the first LSTM layer and some Dropout regularisation"
      ]
    },
    {
      "cell_type": "code",
      "metadata": {
        "id": "qBZ0AsEHLaju"
      },
      "source": [
        "#units=no of cells in LSTM layer(Neurons)\n",
        "#Return_sequence should be true until we get reached to the lasst LSTM LAYER. DEFAULT IS FALSE\n",
        "#input_Shape should be same as input X_train. The no of observation will be taken into account automatically.\n",
        "#Dropout is to avoid overfitting. 0.2 means 20% of total neurons will be dropped(set to zero).\n",
        "regressor.add(LSTM(units=50, return_sequences=True, input_shape=(X_train.shape[1], 1)))\n",
        "regressor.add(Dropout(0.2))"
      ],
      "execution_count": 43,
      "outputs": []
    },
    {
      "cell_type": "markdown",
      "metadata": {
        "id": "3XBIYLyOjlMx"
      },
      "source": [
        "### Adding a second LSTM layer and some Dropout regularisation"
      ]
    },
    {
      "cell_type": "code",
      "metadata": {
        "id": "oUV39IdjNbTU"
      },
      "source": [
        "regressor.add(LSTM(units=50, return_sequences=True))\n",
        "regressor.add(Dropout(0.2))"
      ],
      "execution_count": 44,
      "outputs": []
    },
    {
      "cell_type": "markdown",
      "metadata": {
        "id": "Ey3fHVnGj1cu"
      },
      "source": [
        "### Adding a third LSTM layer and some Dropout regularisation"
      ]
    },
    {
      "cell_type": "code",
      "metadata": {
        "id": "inXUNj1DNjSR"
      },
      "source": [
        "regressor.add(LSTM(units=50, return_sequences=True))\n",
        "regressor.add(Dropout(0.2))"
      ],
      "execution_count": 45,
      "outputs": []
    },
    {
      "cell_type": "markdown",
      "metadata": {
        "id": "SYTrtfTmj933"
      },
      "source": [
        "### Adding a fourth LSTM layer and some Dropout regularisation"
      ]
    },
    {
      "cell_type": "code",
      "metadata": {
        "id": "_dYxhZ2YNkSg"
      },
      "source": [
        "regressor.add(LSTM(units = 50))\n",
        "regressor.add(Dropout(0.2))"
      ],
      "execution_count": 46,
      "outputs": []
    },
    {
      "cell_type": "markdown",
      "metadata": {
        "id": "9ABI6rOIkHhk"
      },
      "source": [
        "### Adding the output layer"
      ]
    },
    {
      "cell_type": "code",
      "metadata": {
        "id": "IELVy4erNzH1"
      },
      "source": [
        "regressor.add(Dense(units=1))"
      ],
      "execution_count": 47,
      "outputs": []
    },
    {
      "cell_type": "markdown",
      "metadata": {
        "id": "zLx4K7uUkPSh"
      },
      "source": [
        "### Compiling the RNN"
      ]
    },
    {
      "cell_type": "code",
      "metadata": {
        "id": "GiWFyhlnN8EJ"
      },
      "source": [
        "regressor.compile(optimizer='adam', loss='mean_squared_error')"
      ],
      "execution_count": 48,
      "outputs": []
    },
    {
      "cell_type": "markdown",
      "metadata": {
        "id": "-mPhwKGkkebi"
      },
      "source": [
        "### Fitting the RNN to the Training set"
      ]
    },
    {
      "cell_type": "code",
      "metadata": {
        "colab": {
          "base_uri": "https://localhost:8080/"
        },
        "id": "33NPVKdtODjt",
        "outputId": "20b19617-3b37-467d-96da-387d34fed8dc"
      },
      "source": [
        "history = regressor.fit(X_train, y_train, epochs=100, batch_size=32)"
      ],
      "execution_count": 49,
      "outputs": [
        {
          "output_type": "stream",
          "name": "stdout",
          "text": [
            "Epoch 1/100\n",
            "27/27 [==============================] - 13s 59ms/step - loss: 0.0581\n",
            "Epoch 2/100\n",
            "27/27 [==============================] - 2s 60ms/step - loss: 0.0086\n",
            "Epoch 3/100\n",
            "27/27 [==============================] - 2s 60ms/step - loss: 0.0057\n",
            "Epoch 4/100\n",
            "27/27 [==============================] - 2s 59ms/step - loss: 0.0053\n",
            "Epoch 5/100\n",
            "27/27 [==============================] - 2s 59ms/step - loss: 0.0057\n",
            "Epoch 6/100\n",
            "27/27 [==============================] - 2s 59ms/step - loss: 0.0055\n",
            "Epoch 7/100\n",
            "27/27 [==============================] - 2s 60ms/step - loss: 0.0045\n",
            "Epoch 8/100\n",
            "27/27 [==============================] - 2s 59ms/step - loss: 0.0044\n",
            "Epoch 9/100\n",
            "27/27 [==============================] - 2s 59ms/step - loss: 0.0040\n",
            "Epoch 10/100\n",
            "27/27 [==============================] - 2s 60ms/step - loss: 0.0039\n",
            "Epoch 11/100\n",
            "27/27 [==============================] - 2s 59ms/step - loss: 0.0039\n",
            "Epoch 12/100\n",
            "27/27 [==============================] - 2s 59ms/step - loss: 0.0039\n",
            "Epoch 13/100\n",
            "27/27 [==============================] - 2s 59ms/step - loss: 0.0035\n",
            "Epoch 14/100\n",
            "27/27 [==============================] - 2s 60ms/step - loss: 0.0035\n",
            "Epoch 15/100\n",
            "27/27 [==============================] - 2s 60ms/step - loss: 0.0039\n",
            "Epoch 16/100\n",
            "27/27 [==============================] - 2s 60ms/step - loss: 0.0036\n",
            "Epoch 17/100\n",
            "27/27 [==============================] - 2s 59ms/step - loss: 0.0043\n",
            "Epoch 18/100\n",
            "27/27 [==============================] - 2s 60ms/step - loss: 0.0036\n",
            "Epoch 19/100\n",
            "27/27 [==============================] - 2s 59ms/step - loss: 0.0034\n",
            "Epoch 20/100\n",
            "27/27 [==============================] - 2s 60ms/step - loss: 0.0032\n",
            "Epoch 21/100\n",
            "27/27 [==============================] - 2s 60ms/step - loss: 0.0030\n",
            "Epoch 22/100\n",
            "27/27 [==============================] - 2s 60ms/step - loss: 0.0031\n",
            "Epoch 23/100\n",
            "27/27 [==============================] - 2s 59ms/step - loss: 0.0033\n",
            "Epoch 24/100\n",
            "27/27 [==============================] - 2s 59ms/step - loss: 0.0027\n",
            "Epoch 25/100\n",
            "27/27 [==============================] - 2s 60ms/step - loss: 0.0029\n",
            "Epoch 26/100\n",
            "27/27 [==============================] - 2s 59ms/step - loss: 0.0032\n",
            "Epoch 27/100\n",
            "27/27 [==============================] - 2s 59ms/step - loss: 0.0028\n",
            "Epoch 28/100\n",
            "27/27 [==============================] - 2s 60ms/step - loss: 0.0028\n",
            "Epoch 29/100\n",
            "27/27 [==============================] - 2s 59ms/step - loss: 0.0028\n",
            "Epoch 30/100\n",
            "27/27 [==============================] - 2s 59ms/step - loss: 0.0027\n",
            "Epoch 31/100\n",
            "27/27 [==============================] - 2s 60ms/step - loss: 0.0028\n",
            "Epoch 32/100\n",
            "27/27 [==============================] - 2s 60ms/step - loss: 0.0026\n",
            "Epoch 33/100\n",
            "27/27 [==============================] - 2s 59ms/step - loss: 0.0028\n",
            "Epoch 34/100\n",
            "27/27 [==============================] - 2s 59ms/step - loss: 0.0025\n",
            "Epoch 35/100\n",
            "27/27 [==============================] - 2s 59ms/step - loss: 0.0026\n",
            "Epoch 36/100\n",
            "27/27 [==============================] - 2s 59ms/step - loss: 0.0030\n",
            "Epoch 37/100\n",
            "27/27 [==============================] - 2s 60ms/step - loss: 0.0025\n",
            "Epoch 38/100\n",
            "27/27 [==============================] - 2s 60ms/step - loss: 0.0025\n",
            "Epoch 39/100\n",
            "27/27 [==============================] - 2s 59ms/step - loss: 0.0027\n",
            "Epoch 40/100\n",
            "27/27 [==============================] - 2s 58ms/step - loss: 0.0025\n",
            "Epoch 41/100\n",
            "27/27 [==============================] - 2s 59ms/step - loss: 0.0028\n",
            "Epoch 42/100\n",
            "27/27 [==============================] - 2s 60ms/step - loss: 0.0025\n",
            "Epoch 43/100\n",
            "27/27 [==============================] - 2s 59ms/step - loss: 0.0029\n",
            "Epoch 44/100\n",
            "27/27 [==============================] - 2s 60ms/step - loss: 0.0025\n",
            "Epoch 45/100\n",
            "27/27 [==============================] - 2s 60ms/step - loss: 0.0024\n",
            "Epoch 46/100\n",
            "27/27 [==============================] - 2s 60ms/step - loss: 0.0022\n",
            "Epoch 47/100\n",
            "27/27 [==============================] - 2s 60ms/step - loss: 0.0023\n",
            "Epoch 48/100\n",
            "27/27 [==============================] - 2s 60ms/step - loss: 0.0030\n",
            "Epoch 49/100\n",
            "27/27 [==============================] - 2s 60ms/step - loss: 0.0029\n",
            "Epoch 50/100\n",
            "27/27 [==============================] - 2s 60ms/step - loss: 0.0022\n",
            "Epoch 51/100\n",
            "27/27 [==============================] - 2s 60ms/step - loss: 0.0022\n",
            "Epoch 52/100\n",
            "27/27 [==============================] - 2s 60ms/step - loss: 0.0021\n",
            "Epoch 53/100\n",
            "27/27 [==============================] - 2s 60ms/step - loss: 0.0027\n",
            "Epoch 54/100\n",
            "27/27 [==============================] - 2s 60ms/step - loss: 0.0020\n",
            "Epoch 55/100\n",
            "27/27 [==============================] - 2s 60ms/step - loss: 0.0021\n",
            "Epoch 56/100\n",
            "27/27 [==============================] - 2s 60ms/step - loss: 0.0023\n",
            "Epoch 57/100\n",
            "27/27 [==============================] - 2s 60ms/step - loss: 0.0027\n",
            "Epoch 58/100\n",
            "27/27 [==============================] - 2s 60ms/step - loss: 0.0020\n",
            "Epoch 59/100\n",
            "27/27 [==============================] - 2s 60ms/step - loss: 0.0019\n",
            "Epoch 60/100\n",
            "27/27 [==============================] - 2s 60ms/step - loss: 0.0022\n",
            "Epoch 61/100\n",
            "27/27 [==============================] - 2s 61ms/step - loss: 0.0019\n",
            "Epoch 62/100\n",
            "27/27 [==============================] - 2s 60ms/step - loss: 0.0019\n",
            "Epoch 63/100\n",
            "27/27 [==============================] - 2s 59ms/step - loss: 0.0021\n",
            "Epoch 64/100\n",
            "27/27 [==============================] - 2s 59ms/step - loss: 0.0019\n",
            "Epoch 65/100\n",
            "27/27 [==============================] - 2s 60ms/step - loss: 0.0020\n",
            "Epoch 66/100\n",
            "27/27 [==============================] - 2s 60ms/step - loss: 0.0019\n",
            "Epoch 67/100\n",
            "27/27 [==============================] - 2s 59ms/step - loss: 0.0021\n",
            "Epoch 68/100\n",
            "27/27 [==============================] - 2s 60ms/step - loss: 0.0017\n",
            "Epoch 69/100\n",
            "27/27 [==============================] - 2s 60ms/step - loss: 0.0017\n",
            "Epoch 70/100\n",
            "27/27 [==============================] - 2s 60ms/step - loss: 0.0017\n",
            "Epoch 71/100\n",
            "27/27 [==============================] - 2s 60ms/step - loss: 0.0017\n",
            "Epoch 72/100\n",
            "27/27 [==============================] - 2s 60ms/step - loss: 0.0019\n",
            "Epoch 73/100\n",
            "27/27 [==============================] - 2s 60ms/step - loss: 0.0019\n",
            "Epoch 74/100\n",
            "27/27 [==============================] - 2s 60ms/step - loss: 0.0018\n",
            "Epoch 75/100\n",
            "27/27 [==============================] - 2s 59ms/step - loss: 0.0017\n",
            "Epoch 76/100\n",
            "27/27 [==============================] - 2s 60ms/step - loss: 0.0019\n",
            "Epoch 77/100\n",
            "27/27 [==============================] - 2s 60ms/step - loss: 0.0018\n",
            "Epoch 78/100\n",
            "27/27 [==============================] - 2s 61ms/step - loss: 0.0020\n",
            "Epoch 79/100\n",
            "27/27 [==============================] - 2s 60ms/step - loss: 0.0017\n",
            "Epoch 80/100\n",
            "27/27 [==============================] - 2s 60ms/step - loss: 0.0018\n",
            "Epoch 81/100\n",
            "27/27 [==============================] - 2s 60ms/step - loss: 0.0015\n",
            "Epoch 82/100\n",
            "27/27 [==============================] - 2s 60ms/step - loss: 0.0017\n",
            "Epoch 83/100\n",
            "27/27 [==============================] - 2s 60ms/step - loss: 0.0018\n",
            "Epoch 84/100\n",
            "27/27 [==============================] - 2s 60ms/step - loss: 0.0017\n",
            "Epoch 85/100\n",
            "27/27 [==============================] - 2s 59ms/step - loss: 0.0015\n",
            "Epoch 86/100\n",
            "27/27 [==============================] - 2s 59ms/step - loss: 0.0019\n",
            "Epoch 87/100\n",
            "27/27 [==============================] - 2s 60ms/step - loss: 0.0016\n",
            "Epoch 88/100\n",
            "27/27 [==============================] - 2s 60ms/step - loss: 0.0015\n",
            "Epoch 89/100\n",
            "27/27 [==============================] - 2s 59ms/step - loss: 0.0017\n",
            "Epoch 90/100\n",
            "27/27 [==============================] - 2s 60ms/step - loss: 0.0017\n",
            "Epoch 91/100\n",
            "27/27 [==============================] - 2s 60ms/step - loss: 0.0015\n",
            "Epoch 92/100\n",
            "27/27 [==============================] - 2s 60ms/step - loss: 0.0017\n",
            "Epoch 93/100\n",
            "27/27 [==============================] - 2s 60ms/step - loss: 0.0019\n",
            "Epoch 94/100\n",
            "27/27 [==============================] - 2s 59ms/step - loss: 0.0015\n",
            "Epoch 95/100\n",
            "27/27 [==============================] - 2s 61ms/step - loss: 0.0016\n",
            "Epoch 96/100\n",
            "27/27 [==============================] - 2s 59ms/step - loss: 0.0013\n",
            "Epoch 97/100\n",
            "27/27 [==============================] - 2s 59ms/step - loss: 0.0015\n",
            "Epoch 98/100\n",
            "27/27 [==============================] - 2s 60ms/step - loss: 0.0019\n",
            "Epoch 99/100\n",
            "27/27 [==============================] - 2s 60ms/step - loss: 0.0014\n",
            "Epoch 100/100\n",
            "27/27 [==============================] - 2s 59ms/step - loss: 0.0013\n"
          ]
        }
      ]
    },
    {
      "cell_type": "markdown",
      "metadata": {
        "id": "4hRau_lIkrE8"
      },
      "source": [
        "## Part 3 - Making the predictions and visualising the results"
      ]
    },
    {
      "cell_type": "markdown",
      "metadata": {
        "id": "SgJO6qEDksxD"
      },
      "source": [
        "### Getting the real stock price of 2017"
      ]
    },
    {
      "cell_type": "code",
      "metadata": {
        "id": "dOqRmKZgOROd"
      },
      "source": [
        "dataset_test = pd.read_csv('test.csv')\n",
        "real_stock_price = dataset_test.iloc[:, 7:8].values"
      ],
      "execution_count": 57,
      "outputs": []
    },
    {
      "cell_type": "code",
      "metadata": {
        "colab": {
          "base_uri": "https://localhost:8080/",
          "height": 134
        },
        "id": "x3ckr_bhVJbH",
        "outputId": "2282f7f9-2645-4c77-87d2-fa10b66cd869"
      },
      "source": [
        "dataset_test.head(1)"
      ],
      "execution_count": 58,
      "outputs": [
        {
          "output_type": "execute_result",
          "data": {
            "text/html": [
              "<div>\n",
              "<style scoped>\n",
              "    .dataframe tbody tr th:only-of-type {\n",
              "        vertical-align: middle;\n",
              "    }\n",
              "\n",
              "    .dataframe tbody tr th {\n",
              "        vertical-align: top;\n",
              "    }\n",
              "\n",
              "    .dataframe thead th {\n",
              "        text-align: right;\n",
              "    }\n",
              "</style>\n",
              "<table border=\"1\" class=\"dataframe\">\n",
              "  <thead>\n",
              "    <tr style=\"text-align: right;\">\n",
              "      <th></th>\n",
              "      <th>Unnamed: 0</th>\n",
              "      <th>index</th>\n",
              "      <th>Unnamed: 0.1</th>\n",
              "      <th>symbol</th>\n",
              "      <th>date</th>\n",
              "      <th>close</th>\n",
              "      <th>high</th>\n",
              "      <th>low</th>\n",
              "      <th>open</th>\n",
              "      <th>volume</th>\n",
              "      <th>adjClose</th>\n",
              "      <th>adjHigh</th>\n",
              "      <th>adjLow</th>\n",
              "      <th>adjOpen</th>\n",
              "      <th>adjVolume</th>\n",
              "      <th>divCash</th>\n",
              "      <th>splitFactor</th>\n",
              "    </tr>\n",
              "  </thead>\n",
              "  <tbody>\n",
              "    <tr>\n",
              "      <th>0</th>\n",
              "      <td>0</td>\n",
              "      <td>900</td>\n",
              "      <td>900</td>\n",
              "      <td>AAPL</td>\n",
              "      <td>2018-12-20 00:00:00+00:00</td>\n",
              "      <td>156.83</td>\n",
              "      <td>162.11</td>\n",
              "      <td>155.3</td>\n",
              "      <td>160.4</td>\n",
              "      <td>64772960</td>\n",
              "      <td>153.724073</td>\n",
              "      <td>158.899505</td>\n",
              "      <td>152.224373</td>\n",
              "      <td>157.223371</td>\n",
              "      <td>64772960</td>\n",
              "      <td>0.0</td>\n",
              "      <td>1.0</td>\n",
              "    </tr>\n",
              "  </tbody>\n",
              "</table>\n",
              "</div>"
            ],
            "text/plain": [
              "   Unnamed: 0  index  Unnamed: 0.1  ... adjVolume divCash  splitFactor\n",
              "0           0    900           900  ...  64772960     0.0          1.0\n",
              "\n",
              "[1 rows x 17 columns]"
            ]
          },
          "metadata": {},
          "execution_count": 58
        }
      ]
    },
    {
      "cell_type": "code",
      "metadata": {
        "colab": {
          "base_uri": "https://localhost:8080/"
        },
        "id": "7ReEf8LsWFZV",
        "outputId": "64fa84fe-e609-44dc-d397-7efd737aab11"
      },
      "source": [
        "dataset_test.shape"
      ],
      "execution_count": 60,
      "outputs": [
        {
          "output_type": "execute_result",
          "data": {
            "text/plain": [
              "(358, 17)"
            ]
          },
          "metadata": {},
          "execution_count": 60
        }
      ]
    },
    {
      "cell_type": "code",
      "metadata": {
        "colab": {
          "base_uri": "https://localhost:8080/",
          "height": 134
        },
        "id": "UhToISlVVOtZ",
        "outputId": "4e324389-333a-4e5b-b302-cdb580446b92"
      },
      "source": [
        "dataset_train.head(1)"
      ],
      "execution_count": 59,
      "outputs": [
        {
          "output_type": "execute_result",
          "data": {
            "text/html": [
              "<div>\n",
              "<style scoped>\n",
              "    .dataframe tbody tr th:only-of-type {\n",
              "        vertical-align: middle;\n",
              "    }\n",
              "\n",
              "    .dataframe tbody tr th {\n",
              "        vertical-align: top;\n",
              "    }\n",
              "\n",
              "    .dataframe thead th {\n",
              "        text-align: right;\n",
              "    }\n",
              "</style>\n",
              "<table border=\"1\" class=\"dataframe\">\n",
              "  <thead>\n",
              "    <tr style=\"text-align: right;\">\n",
              "      <th></th>\n",
              "      <th>index</th>\n",
              "      <th>Unnamed: 0</th>\n",
              "      <th>symbol</th>\n",
              "      <th>date</th>\n",
              "      <th>close</th>\n",
              "      <th>high</th>\n",
              "      <th>low</th>\n",
              "      <th>open</th>\n",
              "      <th>volume</th>\n",
              "      <th>adjClose</th>\n",
              "      <th>adjHigh</th>\n",
              "      <th>adjLow</th>\n",
              "      <th>adjOpen</th>\n",
              "      <th>adjVolume</th>\n",
              "      <th>divCash</th>\n",
              "      <th>splitFactor</th>\n",
              "    </tr>\n",
              "  </thead>\n",
              "  <tbody>\n",
              "    <tr>\n",
              "      <th>0</th>\n",
              "      <td>0</td>\n",
              "      <td>0</td>\n",
              "      <td>AAPL</td>\n",
              "      <td>2015-05-27 00:00:00+00:00</td>\n",
              "      <td>132.045</td>\n",
              "      <td>132.26</td>\n",
              "      <td>130.05</td>\n",
              "      <td>130.34</td>\n",
              "      <td>45833246</td>\n",
              "      <td>121.682558</td>\n",
              "      <td>121.880685</td>\n",
              "      <td>119.844118</td>\n",
              "      <td>120.11136</td>\n",
              "      <td>45833246</td>\n",
              "      <td>0.0</td>\n",
              "      <td>1.0</td>\n",
              "    </tr>\n",
              "  </tbody>\n",
              "</table>\n",
              "</div>"
            ],
            "text/plain": [
              "   index  Unnamed: 0 symbol  ... adjVolume  divCash  splitFactor\n",
              "0      0           0   AAPL  ...  45833246      0.0          1.0\n",
              "\n",
              "[1 rows x 16 columns]"
            ]
          },
          "metadata": {},
          "execution_count": 59
        }
      ]
    },
    {
      "cell_type": "markdown",
      "metadata": {
        "id": "GrvrLblxkz42"
      },
      "source": [
        "### Getting the predicted stock price of 2017"
      ]
    },
    {
      "cell_type": "code",
      "metadata": {
        "id": "rJhXx6G9Odxl"
      },
      "source": [
        "dataset_total = pd.concat((dataset_train['open'], dataset_test['open']), axis = 0)\n",
        "inputs = dataset_total[len(dataset_total) - len(dataset_test) - 60:].values\n",
        "inputs = inputs.reshape(-1,1)\n",
        "inputs = sc.transform(inputs)\n",
        "X_test = []\n",
        "for i in range(60, 358+60):\n",
        "    X_test.append(inputs[i-60:i, 0])\n",
        "X_test = np.array(X_test)\n",
        "X_test = np.reshape(X_test, (X_test.shape[0], X_test.shape[1], 1))\n",
        "predicted_stock_price = regressor.predict(X_test)\n",
        "predicted_stock_price = sc.inverse_transform(predicted_stock_price)"
      ],
      "execution_count": 64,
      "outputs": []
    },
    {
      "cell_type": "markdown",
      "metadata": {
        "id": "iFTNs3YHk6FQ"
      },
      "source": [
        "### Visualising the results"
      ]
    },
    {
      "cell_type": "code",
      "metadata": {
        "colab": {
          "base_uri": "https://localhost:8080/",
          "height": 295
        },
        "id": "NKIxax91PFPQ",
        "outputId": "bdf0a5c2-c33c-4a95-e5c7-4ff81173668a"
      },
      "source": [
        "plt.plot(real_stock_price, color = 'red', label = 'Real Google Stock Price')\n",
        "plt.plot(predicted_stock_price, color = 'blue', label = 'Predicted Google Stock Price')\n",
        "plt.title('Google Stock Price Prediction')\n",
        "plt.xlabel('Time')\n",
        "plt.ylabel('Google Stock Price')\n",
        "plt.legend()\n",
        "plt.show()"
      ],
      "execution_count": 65,
      "outputs": [
        {
          "output_type": "display_data",
          "data": {
            "image/png": "[encoded data removed]",
            "text/plain": [
              "<Figure size 432x288 with 1 Axes>"
            ]
          },
          "metadata": {
            "needs_background": "light"
          }
        }
      ]
    }
  ]
}